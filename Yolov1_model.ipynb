{
  "nbformat": 4,
  "nbformat_minor": 0,
  "metadata": {
    "colab": {
      "provenance": [],
      "authorship_tag": "ABX9TyN8t9TfisAZZkXZ6OFsnh9N",
      "include_colab_link": true
    },
    "kernelspec": {
      "name": "python3",
      "display_name": "Python 3"
    },
    "language_info": {
      "name": "python"
    }
  },
  "cells": [
    {
      "cell_type": "markdown",
      "metadata": {
        "id": "view-in-github",
        "colab_type": "text"
      },
      "source": [
        "<a href=\"https://colab.research.google.com/github/SrinithiSL/Yolov1_implementation/blob/main/Yolov1_model.ipynb\" target=\"_parent\"><img src=\"https://colab.research.google.com/assets/colab-badge.svg\" alt=\"Open In Colab\"/></a>"
      ]
    },
    {
      "cell_type": "code",
      "execution_count": 1,
      "metadata": {
        "id": "SI0Fxhw_1HmQ"
      },
      "outputs": [],
      "source": [
        "import torch\n",
        "import torch.nn as nn"
      ]
    },
    {
      "cell_type": "code",
      "source": [
        "architecture_config=[(7,64,2,3),'M',(3,192,1,1),'M',(1,128,1,1),(3,256,1,0),(1,512,1,1),(3,512,1,0),'M',[(1,256,1,0),(3,512,1,1),4],(1,512,1,0),(3,1024,1,1),'M',[(1,512,1,0),(3,1024,1,1),2],(3,1024,1,1),(3,1024,2,1),(3,1024,1,1),(3,1024,1,1)]"
      ],
      "metadata": {
        "id": "d2K_sBg0B0FA"
      },
      "execution_count": 2,
      "outputs": []
    },
    {
      "cell_type": "code",
      "source": [
        "class block(nn.Module):\n",
        "  def __init__(self,input_channels,output_channels,**kwargs):\n",
        "    super(block, self).__init__()\n",
        "    self.conv = nn.Conv2d(input_channels, output_channels,  bias=False,**kwargs)\n",
        "    self.bn = nn.BatchNorm2d(output_channels)\n",
        "    self.leakyrelu=nn.LeakyReLU(0.1)\n",
        "\n",
        "  def forward(self,x):\n",
        "    return self.leakyrelu(self.bn(self.conv(x)))  \n"
      ],
      "metadata": {
        "id": "x3nvIHzRB8VU"
      },
      "execution_count": 3,
      "outputs": []
    },
    {
      "cell_type": "code",
      "source": [
        "class yolov1(nn.Module):\n",
        "  def __init__(self,input_channels=3,**kwargs):\n",
        "    super(yolov1, self).__init__()\n",
        "    self.architecture=architecture_config\n",
        "    self.input_channels=input_channels\n",
        "    self.convnet=self.create_layer(self.architecture)\n",
        "    self.fcs=self.create_fcs(**kwargs)\n",
        "\n",
        "  def forward(self,x):\n",
        "    x=self.convnet(x)\n",
        "    return self.fcs(torch.flatten(x,start_dim=1))\n",
        "\n",
        "  def create_layer(self,architecture):  \n",
        "    layers=[]\n",
        "    input_channels=self.input_channels\n",
        "\n",
        "    for x in architecture:\n",
        "      if type(x)==tuple:\n",
        "        layers+=[block(input_channels,output_channels=x[1],kernel_size=x[0],stride=x[2],padding=x[3],)]\n",
        "        input_channels=x[1]\n",
        "      elif type(x)==str:\n",
        "        layers+=[nn.MaxPool2d(kernel_size=2,stride=2)]\n",
        "      elif type(x)==list:\n",
        "        conv1=x[0]\n",
        "        conv2=x[1]\n",
        "        num_repeats=x[2]\n",
        "\n",
        "        for _ in range(num_repeats):\n",
        "          layers+=[block(input_channels,conv1[1],kernel_size=conv1[0],stride=conv1[2],padding=conv1[3])]  \n",
        "          layers+=[block(conv1[1],conv2[1],kernel_size=conv2[0],stride=conv2[2],padding=conv2[3])]  \n",
        "          input_channels=conv2[1]\n",
        "\n",
        "    return nn.Sequential(*layers)      \n",
        "\n",
        "  def create_fcs(self,split_size,num_boxes,num_classes):\n",
        "    s,b,c=split_size,num_boxes,num_classes\n",
        "    return nn.Sequential(nn.Flatten(),nn.Linear(1024*s*s,4096),nn.Dropout(0.0),nn.LeakyReLU(0.1),nn.Linear(4096,s*s*(c+b*5)))\n"
      ],
      "metadata": {
        "id": "XWFlHJZOR6dI"
      },
      "execution_count": 4,
      "outputs": []
    },
    {
      "cell_type": "code",
      "source": [
        "def test(s=7,b=2,c=20):\n",
        "  model=yolov1(split_size=s,num_boxes=b,num_classes=c)\n",
        "  x=torch.randn((2,3,448,448))\n",
        "  print(model(x).shape)"
      ],
      "metadata": {
        "id": "AvCIdI1eCLOh"
      },
      "execution_count": 5,
      "outputs": []
    },
    {
      "cell_type": "code",
      "source": [
        "test()"
      ],
      "metadata": {
        "colab": {
          "base_uri": "https://localhost:8080/"
        },
        "id": "_IUOWHPoCPRc",
        "outputId": "548bff75-f779-49da-a1ff-2a4ecf66bf73"
      },
      "execution_count": 6,
      "outputs": [
        {
          "output_type": "stream",
          "name": "stdout",
          "text": [
            "torch.Size([2, 1470])\n"
          ]
        }
      ]
    }
  ]
}